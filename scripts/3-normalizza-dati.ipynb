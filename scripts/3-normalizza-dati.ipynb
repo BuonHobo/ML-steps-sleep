{
 "cells": [
  {
   "metadata": {},
   "cell_type": "markdown",
   "source": [
    "Visto che i passi mi serviranno praticamente sempre in forma normalizzata, mi salvo anche la versione del dataset con la colonna dei passi normalizzati.\n",
    "Inoltre probabilmente è meglio avere anche lo score in forma normalizzata.\n",
    "Normalizzo anche le date usando minmax."
   ],
   "id": "37c0e69d38e66cb2"
  },
  {
   "metadata": {
    "ExecuteTime": {
     "end_time": "2024-05-29T10:43:32.769425Z",
     "start_time": "2024-05-29T10:43:32.516837Z"
    }
   },
   "cell_type": "code",
   "source": "import pandas as pd",
   "id": "9124c5788ebc59d4",
   "execution_count": 1,
   "outputs": []
  },
  {
   "metadata": {
    "ExecuteTime": {
     "end_time": "2024-05-29T10:43:33.913949Z",
     "start_time": "2024-05-29T10:43:32.770642Z"
    }
   },
   "cell_type": "code",
   "source": "df = pd.read_csv('../data/valutati.csv.gz')",
   "id": "809087a92efebf63",
   "execution_count": 2,
   "outputs": []
  },
  {
   "metadata": {
    "ExecuteTime": {
     "end_time": "2024-05-29T10:43:47.624522Z",
     "start_time": "2024-05-29T10:43:33.914941Z"
    }
   },
   "cell_type": "code",
   "source": [
    "from sklearn.preprocessing import MinMaxScaler\n",
    "import datetime\n",
    "\n",
    "df.date = df.date.apply(lambda x: datetime.datetime.strptime(x, \"%Y-%m-%d\"))\n",
    "df.date = MinMaxScaler().fit_transform(df[[\"date\"]])"
   ],
   "id": "a6486d522e034b54",
   "execution_count": 3,
   "outputs": []
  },
  {
   "metadata": {},
   "cell_type": "markdown",
   "source": "Faccio le normalizzazioni sia utente per utente che su tutto il dataset",
   "id": "135780f87c867190"
  },
  {
   "metadata": {},
   "cell_type": "code",
   "source": [
    "from sklearn.preprocessing import StandardScaler  # Questo scaler è meno sensibile agli outliers\n",
    "\n",
    "\n",
    "def scale(x):\n",
    "    x[\"n_steps\"] = StandardScaler().fit_transform(x[[\"steps\"]])  # Lo scaling è fatto sulla base dell'utente\n",
    "    x[\"n_sleep_score\"] = StandardScaler().fit_transform(x[[\"sleep_score\"]])  # Lo scaling è fatto sulla base dell'utente\n",
    "    return x\n",
    "\n",
    "\n",
    "def scale2(x):\n",
    "    x[\"n_steps_all\"] = StandardScaler().fit_transform(x[[\"steps\"]])  # Lo scaling è fatto sulla base dell'utente\n",
    "    x[\"n_sleep_score_all\"] = StandardScaler().fit_transform(\n",
    "        x[[\"sleep_score\"]])  # Lo scaling è fatto sulla base dell'utente\n",
    "    return x\n",
    "\n",
    "\n",
    "df = df.groupby(\"uuid\").apply(scale, include_groups=False)\n",
    "df = df.transform(scale2)\n",
    "df.head()"
   ],
   "id": "3f444349173a719e",
   "execution_count": null,
   "outputs": []
  },
  {
   "metadata": {
    "ExecuteTime": {
     "end_time": "2024-05-29T10:44:27.594686Z",
     "start_time": "2024-05-29T10:44:27.449861Z"
    }
   },
   "cell_type": "code",
   "source": [
    "df = df.rename_axis([\"uuid\", \"id\"]).reset_index().drop(\n",
    "    columns=[\"id\"])  # Per un csv più pulito, infatti il groupby aggiunge una colonna che non voglio\n",
    "df.head()"
   ],
   "id": "5c13d4d0463b8d71",
   "execution_count": 5,
   "outputs": []
  },
  {
   "metadata": {
    "ExecuteTime": {
     "end_time": "2024-05-29T10:45:00.049502Z",
     "start_time": "2024-05-29T10:44:27.595551Z"
    }
   },
   "cell_type": "code",
   "source": "df.to_csv('../data/scalati.csv.gz', compression='gzip', index=False)",
   "id": "5515c87438741f54",
   "execution_count": 6,
   "outputs": []
  },
  {
   "metadata": {},
   "cell_type": "code",
   "execution_count": null,
   "source": "",
   "id": "a18d732fb134403b",
   "outputs": []
  }
 ],
 "metadata": {
  "kernelspec": {
   "display_name": "Python 3",
   "language": "python",
   "name": "python3"
  },
  "language_info": {
   "codemirror_mode": {
    "name": "ipython",
    "version": 2
   },
   "file_extension": ".py",
   "mimetype": "text/x-python",
   "name": "python",
   "nbconvert_exporter": "python",
   "pygments_lexer": "ipython2",
   "version": "2.7.6"
  }
 },
 "nbformat": 4,
 "nbformat_minor": 5
}
