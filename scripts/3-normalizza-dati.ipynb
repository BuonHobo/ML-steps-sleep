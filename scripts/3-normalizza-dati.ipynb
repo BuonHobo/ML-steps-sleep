{
 "cells": [
  {
   "metadata": {},
   "cell_type": "markdown",
   "source": [
    "Visto che i passi mi serviranno praticamente sempre in forma normalizzata, mi salvo anche la versione del dataset con la colonna dei passi normalizzati.\n",
    "Inoltre probabilmente è meglio avere anche lo score in forma normalizzata.\n",
    "Normalizzo anche le date usando minmax."
   ],
   "id": "37c0e69d38e66cb2"
  },
  {
   "metadata": {
    "ExecuteTime": {
     "end_time": "2024-05-29T00:26:54.286134Z",
     "start_time": "2024-05-29T00:26:54.114387Z"
    }
   },
   "cell_type": "code",
   "source": "import pandas as pd",
   "id": "9124c5788ebc59d4",
   "outputs": [],
   "execution_count": 2
  },
  {
   "metadata": {
    "ExecuteTime": {
     "end_time": "2024-05-29T00:26:55.167135Z",
     "start_time": "2024-05-29T00:26:54.382456Z"
    }
   },
   "cell_type": "code",
   "source": "df = pd.read_csv('../data/valutati.csv.gz')",
   "id": "809087a92efebf63",
   "outputs": [],
   "execution_count": 3
  },
  {
   "metadata": {
    "ExecuteTime": {
     "end_time": "2024-05-29T00:27:03.681901Z",
     "start_time": "2024-05-29T00:26:55.174066Z"
    }
   },
   "cell_type": "code",
   "source": [
    "from sklearn.preprocessing import MinMaxScaler\n",
    "import datetime\n",
    "\n",
    "df.date = df.date.apply(lambda x: datetime.datetime.strptime(x, \"%Y-%m-%d\"))\n",
    "df.date = MinMaxScaler().fit_transform(df[[\"date\"]])"
   ],
   "id": "a6486d522e034b54",
   "outputs": [],
   "execution_count": 4
  },
  {
   "metadata": {
    "ExecuteTime": {
     "end_time": "2024-05-29T00:27:37.235463Z",
     "start_time": "2024-05-29T00:27:03.682991Z"
    }
   },
   "cell_type": "code",
   "source": [
    "from sklearn.preprocessing import StandardScaler # Questo scaler è meno sensibile agli outliers\n",
    "\n",
    "def scale(x):\n",
    " x[\"n_steps\"]=StandardScaler().fit_transform(x[[\"steps\"]]) # Lo scaling è fatto sulla base dell'utente\n",
    " x[\"n_sleep_score\"]=StandardScaler().fit_transform(x[[\"sleep_score\"]]) # Lo scaling è fatto sulla base dell'utente\n",
    " return x\n",
    "\n",
    "df=df.groupby(\"uuid\").apply(scale,include_groups=False)\n",
    "df.head()"
   ],
   "id": "3f444349173a719e",
   "outputs": [
    {
     "data": {
      "text/plain": [
       "                                                date    steps  sleep_score  \\\n",
       "uuid                                                                         \n",
       "1003e58667235e01b49008155604980b3900b00e 0  0.335165  4309.81     0.547576   \n",
       "                                         1  0.343407  2228.88     0.415384   \n",
       "                                         2  0.359890  7340.69     0.734624   \n",
       "                                         3  0.373626  8644.73     0.685811   \n",
       "                                         4  0.420330  1643.17     0.169635   \n",
       "\n",
       "                                             n_steps  n_sleep_score  \n",
       "uuid                                                                 \n",
       "1003e58667235e01b49008155604980b3900b00e 0 -0.808859      -0.571941  \n",
       "                                         1 -1.256592      -1.367748  \n",
       "                                         2 -0.156735       0.554103  \n",
       "                                         3  0.123842       0.260243  \n",
       "                                         4 -1.382613      -2.847176  "
      ],
      "text/html": [
       "<div>\n",
       "<style scoped>\n",
       "    .dataframe tbody tr th:only-of-type {\n",
       "        vertical-align: middle;\n",
       "    }\n",
       "\n",
       "    .dataframe tbody tr th {\n",
       "        vertical-align: top;\n",
       "    }\n",
       "\n",
       "    .dataframe thead th {\n",
       "        text-align: right;\n",
       "    }\n",
       "</style>\n",
       "<table border=\"1\" class=\"dataframe\">\n",
       "  <thead>\n",
       "    <tr style=\"text-align: right;\">\n",
       "      <th></th>\n",
       "      <th></th>\n",
       "      <th>date</th>\n",
       "      <th>steps</th>\n",
       "      <th>sleep_score</th>\n",
       "      <th>n_steps</th>\n",
       "      <th>n_sleep_score</th>\n",
       "    </tr>\n",
       "    <tr>\n",
       "      <th>uuid</th>\n",
       "      <th></th>\n",
       "      <th></th>\n",
       "      <th></th>\n",
       "      <th></th>\n",
       "      <th></th>\n",
       "      <th></th>\n",
       "    </tr>\n",
       "  </thead>\n",
       "  <tbody>\n",
       "    <tr>\n",
       "      <th rowspan=\"5\" valign=\"top\">1003e58667235e01b49008155604980b3900b00e</th>\n",
       "      <th>0</th>\n",
       "      <td>0.335165</td>\n",
       "      <td>4309.81</td>\n",
       "      <td>0.547576</td>\n",
       "      <td>-0.808859</td>\n",
       "      <td>-0.571941</td>\n",
       "    </tr>\n",
       "    <tr>\n",
       "      <th>1</th>\n",
       "      <td>0.343407</td>\n",
       "      <td>2228.88</td>\n",
       "      <td>0.415384</td>\n",
       "      <td>-1.256592</td>\n",
       "      <td>-1.367748</td>\n",
       "    </tr>\n",
       "    <tr>\n",
       "      <th>2</th>\n",
       "      <td>0.359890</td>\n",
       "      <td>7340.69</td>\n",
       "      <td>0.734624</td>\n",
       "      <td>-0.156735</td>\n",
       "      <td>0.554103</td>\n",
       "    </tr>\n",
       "    <tr>\n",
       "      <th>3</th>\n",
       "      <td>0.373626</td>\n",
       "      <td>8644.73</td>\n",
       "      <td>0.685811</td>\n",
       "      <td>0.123842</td>\n",
       "      <td>0.260243</td>\n",
       "    </tr>\n",
       "    <tr>\n",
       "      <th>4</th>\n",
       "      <td>0.420330</td>\n",
       "      <td>1643.17</td>\n",
       "      <td>0.169635</td>\n",
       "      <td>-1.382613</td>\n",
       "      <td>-2.847176</td>\n",
       "    </tr>\n",
       "  </tbody>\n",
       "</table>\n",
       "</div>"
      ]
     },
     "execution_count": 5,
     "metadata": {},
     "output_type": "execute_result"
    }
   ],
   "execution_count": 5
  },
  {
   "metadata": {
    "ExecuteTime": {
     "end_time": "2024-05-29T00:27:37.302109Z",
     "start_time": "2024-05-29T00:27:37.236206Z"
    }
   },
   "cell_type": "code",
   "source": [
    "df = df.rename_axis([\"uuid\",\"id\"]).reset_index().drop(columns=[\"id\"]) # Per un csv più pulito, infatti il groupby aggiunge una colonna che non voglio\n",
    "df.head()"
   ],
   "id": "5c13d4d0463b8d71",
   "outputs": [
    {
     "data": {
      "text/plain": [
       "                                       uuid      date    steps  sleep_score  \\\n",
       "0  1003e58667235e01b49008155604980b3900b00e  0.335165  4309.81     0.547576   \n",
       "1  1003e58667235e01b49008155604980b3900b00e  0.343407  2228.88     0.415384   \n",
       "2  1003e58667235e01b49008155604980b3900b00e  0.359890  7340.69     0.734624   \n",
       "3  1003e58667235e01b49008155604980b3900b00e  0.373626  8644.73     0.685811   \n",
       "4  1003e58667235e01b49008155604980b3900b00e  0.420330  1643.17     0.169635   \n",
       "\n",
       "    n_steps  n_sleep_score  \n",
       "0 -0.808859      -0.571941  \n",
       "1 -1.256592      -1.367748  \n",
       "2 -0.156735       0.554103  \n",
       "3  0.123842       0.260243  \n",
       "4 -1.382613      -2.847176  "
      ],
      "text/html": [
       "<div>\n",
       "<style scoped>\n",
       "    .dataframe tbody tr th:only-of-type {\n",
       "        vertical-align: middle;\n",
       "    }\n",
       "\n",
       "    .dataframe tbody tr th {\n",
       "        vertical-align: top;\n",
       "    }\n",
       "\n",
       "    .dataframe thead th {\n",
       "        text-align: right;\n",
       "    }\n",
       "</style>\n",
       "<table border=\"1\" class=\"dataframe\">\n",
       "  <thead>\n",
       "    <tr style=\"text-align: right;\">\n",
       "      <th></th>\n",
       "      <th>uuid</th>\n",
       "      <th>date</th>\n",
       "      <th>steps</th>\n",
       "      <th>sleep_score</th>\n",
       "      <th>n_steps</th>\n",
       "      <th>n_sleep_score</th>\n",
       "    </tr>\n",
       "  </thead>\n",
       "  <tbody>\n",
       "    <tr>\n",
       "      <th>0</th>\n",
       "      <td>1003e58667235e01b49008155604980b3900b00e</td>\n",
       "      <td>0.335165</td>\n",
       "      <td>4309.81</td>\n",
       "      <td>0.547576</td>\n",
       "      <td>-0.808859</td>\n",
       "      <td>-0.571941</td>\n",
       "    </tr>\n",
       "    <tr>\n",
       "      <th>1</th>\n",
       "      <td>1003e58667235e01b49008155604980b3900b00e</td>\n",
       "      <td>0.343407</td>\n",
       "      <td>2228.88</td>\n",
       "      <td>0.415384</td>\n",
       "      <td>-1.256592</td>\n",
       "      <td>-1.367748</td>\n",
       "    </tr>\n",
       "    <tr>\n",
       "      <th>2</th>\n",
       "      <td>1003e58667235e01b49008155604980b3900b00e</td>\n",
       "      <td>0.359890</td>\n",
       "      <td>7340.69</td>\n",
       "      <td>0.734624</td>\n",
       "      <td>-0.156735</td>\n",
       "      <td>0.554103</td>\n",
       "    </tr>\n",
       "    <tr>\n",
       "      <th>3</th>\n",
       "      <td>1003e58667235e01b49008155604980b3900b00e</td>\n",
       "      <td>0.373626</td>\n",
       "      <td>8644.73</td>\n",
       "      <td>0.685811</td>\n",
       "      <td>0.123842</td>\n",
       "      <td>0.260243</td>\n",
       "    </tr>\n",
       "    <tr>\n",
       "      <th>4</th>\n",
       "      <td>1003e58667235e01b49008155604980b3900b00e</td>\n",
       "      <td>0.420330</td>\n",
       "      <td>1643.17</td>\n",
       "      <td>0.169635</td>\n",
       "      <td>-1.382613</td>\n",
       "      <td>-2.847176</td>\n",
       "    </tr>\n",
       "  </tbody>\n",
       "</table>\n",
       "</div>"
      ]
     },
     "execution_count": 6,
     "metadata": {},
     "output_type": "execute_result"
    }
   ],
   "execution_count": 6
  },
  {
   "metadata": {
    "ExecuteTime": {
     "end_time": "2024-05-29T00:27:52.591005Z",
     "start_time": "2024-05-29T00:27:37.303172Z"
    }
   },
   "cell_type": "code",
   "source": "df.to_csv('../data/scalati.csv.gz',compression='gzip',index=False)",
   "id": "5515c87438741f54",
   "outputs": [],
   "execution_count": 7
  },
  {
   "metadata": {},
   "cell_type": "code",
   "outputs": [],
   "execution_count": null,
   "source": "",
   "id": "a18d732fb134403b"
  }
 ],
 "metadata": {
  "kernelspec": {
   "display_name": "Python 3",
   "language": "python",
   "name": "python3"
  },
  "language_info": {
   "codemirror_mode": {
    "name": "ipython",
    "version": 2
   },
   "file_extension": ".py",
   "mimetype": "text/x-python",
   "name": "python",
   "nbconvert_exporter": "python",
   "pygments_lexer": "ipython2",
   "version": "2.7.6"
  }
 },
 "nbformat": 4,
 "nbformat_minor": 5
}
