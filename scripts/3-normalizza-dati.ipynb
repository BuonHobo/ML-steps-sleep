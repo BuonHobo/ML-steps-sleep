{
 "cells": [
  {
   "cell_type": "markdown",
   "id": "37c0e69d38e66cb2",
   "metadata": {},
   "source": [
    "Visto che i passi mi serviranno praticamente sempre in forma normalizzata, mi salvo anche la versione del dataset con la colonna dei passi normalizzati.\n",
    "Inoltre probabilmente è meglio avere anche lo score in forma normalizzata.\n",
    "Normalizzo anche le date usando minmax."
   ]
  },
  {
   "cell_type": "code",
   "execution_count": 1,
   "id": "9124c5788ebc59d4",
   "metadata": {
    "ExecuteTime": {
     "end_time": "2024-06-04T15:08:56.539193Z",
     "start_time": "2024-06-04T15:08:56.285645Z"
    }
   },
   "outputs": [],
   "source": [
    "import pandas as pd"
   ]
  },
  {
   "cell_type": "code",
   "execution_count": 2,
   "id": "809087a92efebf63",
   "metadata": {
    "ExecuteTime": {
     "end_time": "2024-06-04T15:08:57.686376Z",
     "start_time": "2024-06-04T15:08:56.540363Z"
    }
   },
   "outputs": [],
   "source": [
    "df = pd.read_csv('../data/valutati.csv.gz')"
   ]
  },
  {
   "cell_type": "markdown",
   "id": "66063af8",
   "metadata": {},
   "source": [
    "Normalizzo anche la data per poterla usare come feature."
   ]
  },
  {
   "cell_type": "code",
   "execution_count": 3,
   "id": "a6486d522e034b54",
   "metadata": {
    "ExecuteTime": {
     "end_time": "2024-06-04T15:08:58.247431Z",
     "start_time": "2024-06-04T15:08:57.687389Z"
    }
   },
   "outputs": [],
   "source": [
    "from sklearn.preprocessing import MinMaxScaler\n",
    "import datetime\n",
    "\n",
    "df[\"date\"]=pd.to_datetime(df[\"date\"],format= \"%Y-%m-%d\")\n",
    "df[\"n_date\"] = MinMaxScaler().fit_transform(df[[\"date\"]])\n"
   ]
  },
  {
   "cell_type": "markdown",
   "id": "135780f87c867190",
   "metadata": {},
   "source": [
    "scale normalizza i dati separatamente per ogni utente, scale2 li normalizza tutti insieme. Scale2 è migliore in quanto mantiene un po' più informazione relativa a cosa è \"generalmente normale\""
   ]
  },
  {
   "cell_type": "code",
   "execution_count": 4,
   "id": "3f444349173a719e",
   "metadata": {
    "ExecuteTime": {
     "end_time": "2024-06-04T15:08:58.628497Z",
     "start_time": "2024-06-04T15:08:58.248475Z"
    }
   },
   "outputs": [],
   "source": [
    "from sklearn.preprocessing import StandardScaler  # Questo scaler è meno sensibile agli outliers\n",
    "\n",
    "\n",
    "def scale(x):\n",
    "    x[\"n_steps\"] = StandardScaler().fit_transform(x[[\"steps\"]])  # Lo scaling è fatto sulla base dell'utente\n",
    "    x[\"n_sleep_score\"] = StandardScaler().fit_transform(x[[\"sleep_score\"]])  # Lo scaling è fatto sulla base dell'utente\n",
    "    return x\n",
    "\n",
    "\n",
    "def scale2(x):\n",
    "    x[\"n_steps_all\"] = StandardScaler().fit_transform(x[[\"steps\"]])  # Lo scaling è fatto sulla base dell'utente\n",
    "    x[\"n_sleep_score_all\"] = StandardScaler().fit_transform(\n",
    "        x[[\"sleep_score\"]])  # Lo scaling è fatto sulla base dell'utente\n",
    "    return x\n",
    "\n",
    "\n",
    "df = df.transform(scale2)\n",
    "df.head()"
   ]
  },
  {
   "cell_type": "markdown",
   "id": "58bb2d45",
   "metadata": {},
   "source": [
    "Qui invece si calcolano le medie di alcuni valori, basate tutte su una sliding window che copre tra 6 e 10 giorni consecutivi. Lavorare con la media permette di avere dati meno rumorosi.\n",
    "Oltre alle medie con sliding window, calcolo anche i delta tra una media e la successiva."
   ]
  },
  {
   "cell_type": "code",
   "execution_count": 6,
   "id": "11aa823c4177e855",
   "metadata": {
    "ExecuteTime": {
     "end_time": "2024-06-04T15:09:34.518565Z",
     "start_time": "2024-06-04T15:08:58.632613Z"
    }
   },
   "outputs": [],
   "source": [
    "def rolling_mean(x):\n",
    "    y=x[::-1].rolling(window='10D', min_periods=6, on=\"date\")[[\n",
    "        \"steps\",\n",
    "        # \"n_steps\",\n",
    "        \"n_steps_all\",\n",
    "        \"sleep_score\",\n",
    "        # \"n_sleep_score\",\n",
    "        \"n_sleep_score_all\"\n",
    "    ]].mean()[::-1]\n",
    "    x[\"m_steps\"] = y[\"steps\"]\n",
    "    x[\"dm_steps\"] = y[\"steps\"].diff(1)\n",
    "    # x[\"mn_steps\"]= y[\"n_steps\"]\n",
    "    # x[\"dmn_steps\"]= y[\"n_steps\"].diff(1)\n",
    "    x[\"mn_steps_all\"]= y[\"n_steps_all\"]\n",
    "    x[\"dmn_steps_all\"]= y[\"n_steps_all\"].diff(1)\n",
    "    x[\"m_sleep_score\"]= y[\"sleep_score\"]\n",
    "    x[\"dm_sleep_score\"]= y[\"sleep_score\"].diff(1)\n",
    "    # x[\"mn_sleep_score\"]= y[\"n_sleep_score\"]\n",
    "    # x[\"dmn_sleep_score\"]= y[\"n_sleep_score\"].diff(1)\n",
    "    x[\"mn_sleep_score_all\"] = y[\"n_sleep_score_all\"]\n",
    "    x[\"dmn_sleep_score_all\"] = y[\"n_sleep_score_all\"].diff(1)\n",
    "    return x\n",
    "\n",
    "df = df.groupby(\"uuid\").apply(rolling_mean, include_groups=False)\n",
    "df = df.rename_axis([\"uuid\", \"id\"]).reset_index().drop(columns=[\"id\"])  # Per un csv più pulito, infatti il groupby aggiunge una colonna che non voglio\n",
    "df.head(100)"
   ]
  },
  {
   "cell_type": "code",
   "execution_count": 7,
   "id": "5515c87438741f54",
   "metadata": {
    "ExecuteTime": {
     "end_time": "2024-06-04T15:10:38.904699Z",
     "start_time": "2024-06-04T15:09:34.519482Z"
    }
   },
   "outputs": [],
   "source": [
    "df.to_csv('../data/scalati.csv.gz', compression='gzip', index=False)"
   ]
  },
  {
   "cell_type": "code",
   "execution_count": 7,
   "id": "a18d732fb134403b",
   "metadata": {
    "ExecuteTime": {
     "end_time": "2024-06-04T15:10:38.907049Z",
     "start_time": "2024-06-04T15:10:38.905524Z"
    }
   },
   "outputs": [],
   "source": []
  }
 ],
 "metadata": {
  "kernelspec": {
   "display_name": "Python 3",
   "language": "python",
   "name": "python3"
  },
  "language_info": {
   "codemirror_mode": {
    "name": "ipython",
    "version": 2
   },
   "file_extension": ".py",
   "mimetype": "text/x-python",
   "name": "python",
   "nbconvert_exporter": "python",
   "pygments_lexer": "ipython2",
   "version": "2.7.6"
  }
 },
 "nbformat": 4,
 "nbformat_minor": 5
}
