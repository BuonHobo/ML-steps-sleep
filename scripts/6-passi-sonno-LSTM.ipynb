{
 "metadata": {
  "kernelspec": {
   "language": "python",
   "display_name": "Python 3",
   "name": "python3"
  },
  "language_info": {
   "name": "python",
   "version": "3.7.12",
   "mimetype": "text/x-python",
   "codemirror_mode": {
    "name": "ipython",
    "version": 3
   },
   "pygments_lexer": "ipython3",
   "nbconvert_exporter": "python",
   "file_extension": ".py"
  }
 },
 "nbformat_minor": 4,
 "nbformat": 4,
 "cells": [
  {
   "metadata": {
    "ExecuteTime": {
     "end_time": "2024-05-29T18:50:49.532825Z",
     "start_time": "2024-05-29T18:50:46.527402Z"
    }
   },
   "cell_type": "code",
   "source": "from scripts.shared_utilities import *",
   "execution_count": 1,
   "outputs": []
  },
  {
   "metadata": {
    "ExecuteTime": {
     "end_time": "2024-05-29T18:50:49.590189Z",
     "start_time": "2024-05-29T18:50:49.534111Z"
    }
   },
   "cell_type": "code",
   "source": [
    "model = KerasLSTMModel(path=Path(\"../models/modello-passi-sonno-CNN.keras\"))\n",
    "model.summary()"
   ],
   "execution_count": 2,
   "outputs": []
  },
  {
   "metadata": {
    "ExecuteTime": {
     "end_time": "2024-05-29T18:50:52.333466Z",
     "start_time": "2024-05-29T18:50:49.591031Z"
    }
   },
   "cell_type": "code",
   "source": [
    "data = DateStepSleepData()\n",
    "data.get_dataset().head()"
   ],
   "execution_count": 3,
   "outputs": []
  },
  {
   "metadata": {
    "ExecuteTime": {
     "end_time": "2024-05-29T18:50:52.337026Z",
     "start_time": "2024-05-29T18:50:52.334839Z"
    }
   },
   "cell_type": "code",
   "source": "utils = Utilities(model, data)",
   "execution_count": 4,
   "outputs": []
  },
  {
   "metadata": {
    "ExecuteTime": {
     "end_time": "2024-05-29T18:51:02.433415Z",
     "start_time": "2024-05-29T18:50:52.337836Z"
    }
   },
   "cell_type": "code",
   "source": "utils.train_model()",
   "execution_count": 5,
   "outputs": []
  },
  {
   "metadata": {
    "ExecuteTime": {
     "end_time": "2024-05-29T18:51:02.546396Z",
     "start_time": "2024-05-29T18:51:02.434393Z"
    }
   },
   "cell_type": "code",
   "source": "utils.evaluate_model()",
   "execution_count": 6,
   "outputs": []
  },
  {
   "metadata": {
    "ExecuteTime": {
     "end_time": "2024-05-29T18:51:22.038700Z",
     "start_time": "2024-05-29T18:51:22.025508Z"
    }
   },
   "cell_type": "code",
   "source": "model.save()",
   "execution_count": 7,
   "outputs": []
  },
  {
   "metadata": {
    "ExecuteTime": {
     "end_time": "2024-05-29T18:52:02.543599Z",
     "start_time": "2024-05-29T18:52:01.150626Z"
    }
   },
   "cell_type": "code",
   "source": "DateSleepStepPredictionVisualization(model, data).visualize()\n",
   "execution_count": 8,
   "outputs": []
  },
  {
   "metadata": {},
   "cell_type": "code",
   "execution_count": null,
   "source": "",
   "outputs": []
  }
 ]
}
