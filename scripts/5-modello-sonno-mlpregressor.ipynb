{
 "cells": [
  {
   "metadata": {
    "ExecuteTime": {
     "end_time": "2024-05-29T18:48:50.984907Z",
     "start_time": "2024-05-29T18:48:48.246409Z"
    }
   },
   "cell_type": "code",
   "source": [
    "from sklearn.neural_network import MLPRegressor\n",
    "\n",
    "from scripts.shared_utilities import *"
   ],
   "id": "5db03192dc73ebee",
   "execution_count": 1,
   "outputs": []
  },
  {
   "metadata": {
    "ExecuteTime": {
     "end_time": "2024-05-29T18:48:51.097992Z",
     "start_time": "2024-05-29T18:48:50.986147Z"
    }
   },
   "cell_type": "code",
   "source": "model = ComposedKerasSklearnModel(Path(\"../models/modello-passi-CNN.keras\"), MLPRegressor(max_iter=500))",
   "id": "873c19ef7af127bf",
   "execution_count": 2,
   "outputs": []
  },
  {
   "metadata": {
    "ExecuteTime": {
     "end_time": "2024-05-29T18:48:51.101018Z",
     "start_time": "2024-05-29T18:48:51.098833Z"
    }
   },
   "cell_type": "code",
   "source": "data = DateStepSleepData()",
   "id": "4b65df96c9892932",
   "execution_count": 3,
   "outputs": []
  },
  {
   "metadata": {
    "ExecuteTime": {
     "end_time": "2024-05-29T18:48:51.106995Z",
     "start_time": "2024-05-29T18:48:51.101837Z"
    }
   },
   "cell_type": "code",
   "source": "utils = Utilities(model, data)",
   "id": "c34f8295eb61fe8",
   "execution_count": 4,
   "outputs": []
  },
  {
   "metadata": {
    "ExecuteTime": {
     "end_time": "2024-05-29T18:49:07.033654Z",
     "start_time": "2024-05-29T18:48:51.108370Z"
    }
   },
   "cell_type": "code",
   "source": "utils.train_model()",
   "id": "dd865f44d04badcd",
   "execution_count": 5,
   "outputs": []
  },
  {
   "metadata": {
    "ExecuteTime": {
     "end_time": "2024-05-29T18:49:07.211234Z",
     "start_time": "2024-05-29T18:49:07.034510Z"
    }
   },
   "cell_type": "code",
   "source": "utils.evaluate_model()",
   "id": "a7f41478d5d34130",
   "execution_count": 6,
   "outputs": []
  },
  {
   "metadata": {
    "ExecuteTime": {
     "end_time": "2024-05-29T18:49:08.310959Z",
     "start_time": "2024-05-29T18:49:07.213038Z"
    }
   },
   "cell_type": "code",
   "source": "DateSleepStepPredictionVisualization(model, data).visualize()",
   "id": "2788a18ca3ab06ed",
   "execution_count": 7,
   "outputs": []
  },
  {
   "metadata": {},
   "cell_type": "code",
   "execution_count": null,
   "source": "",
   "id": "c8dab21ab06755cc",
   "outputs": []
  }
 ],
 "metadata": {
  "kernelspec": {
   "display_name": "Python 3",
   "language": "python",
   "name": "python3"
  },
  "language_info": {
   "codemirror_mode": {
    "name": "ipython",
    "version": 2
   },
   "file_extension": ".py",
   "mimetype": "text/x-python",
   "name": "python",
   "nbconvert_exporter": "python",
   "pygments_lexer": "ipython2",
   "version": "2.7.6"
  }
 },
 "nbformat": 4,
 "nbformat_minor": 5
}
