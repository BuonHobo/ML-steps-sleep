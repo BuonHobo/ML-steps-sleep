{
 "cells": [
  {
   "metadata": {
    "ExecuteTime": {
     "end_time": "2024-05-29T00:56:49.692521Z",
     "start_time": "2024-05-29T00:56:47.692277Z"
    }
   },
   "cell_type": "code",
   "source": "import keras",
   "id": "5db03192dc73ebee",
   "execution_count": 1,
   "outputs": []
  },
  {
   "metadata": {},
   "cell_type": "markdown",
   "source": "Adesso posso caricare il modello addestrato in precedenza e preoccuparmi semplicemente dell'output dell'ultima rete convoluzionale. Dal summary si può notare che l'ultima layer convoluzionale emette 500 valori relativi alle attivazioni, questi saranno quindi le feature del nostro nuovo modello.",
   "id": "ac07a7df0b4827b4"
  },
  {
   "metadata": {
    "ExecuteTime": {
     "end_time": "2024-05-29T00:56:49.820796Z",
     "start_time": "2024-05-29T00:56:49.693800Z"
    }
   },
   "cell_type": "code",
   "source": [
    "model = keras.saving.load_model(\"../models/modello-passi-recurrent.keras\")\n",
    "attivazioni = keras.Model(inputs=model.layers[0].output,outputs=model.layers[-2].output)\n",
    "attivazioni.summary()\n",
    "window = model.layers[0].output.shape[1]\n",
    "out = model.layers[-1].input.shape[1]"
   ],
   "id": "873c19ef7af127bf",
   "execution_count": 2,
   "outputs": []
  },
  {
   "metadata": {
    "ExecuteTime": {
     "end_time": "2024-05-29T00:56:51.171340Z",
     "start_time": "2024-05-29T00:56:49.821692Z"
    }
   },
   "cell_type": "code",
   "source": [
    "import pandas as pd\n",
    "import scripts.config as cfg\n",
    "import numpy as np\n",
    "\n",
    "dati = pd.read_csv(\"../data/scalati.csv.gz\")[:cfg.dataset_chunk].dropna()"
   ],
   "id": "4b65df96c9892932",
   "execution_count": 3,
   "outputs": []
  },
  {
   "metadata": {},
   "cell_type": "markdown",
   "source": "Questa sotto è una visualizzazione delle attivazioni della rete in risposta all'input mostrato",
   "id": "7295e51dc1a4a1d2"
  },
  {
   "cell_type": "code",
   "id": "initial_id",
   "metadata": {
    "collapsed": true,
    "ExecuteTime": {
     "end_time": "2024-05-29T00:56:51.979296Z",
     "start_time": "2024-05-29T00:56:51.172739Z"
    }
   },
   "source": [
    "import matplotlib.pyplot as plt\n",
    "\n",
    "for uuid,group in dati.groupby('uuid')[[\"date\",\"n_steps\"]]:\n",
    "    if len(group)<window:\n",
    "        continue\n",
    "    inp = group.values[-window:].reshape(window,2)\n",
    "    pred= attivazioni.predict(np.array([inp]))\n",
    "    plt.plot(inp[:,0], inp[:,1], label='Truth')\n",
    "    plt.show()\n",
    "    plt.close()\n",
    "    plt.imshow(pred.reshape(window,-1).T,cmap='Greys')\n",
    "    plt.show()\n",
    "    plt.close()\n",
    "    break"
   ],
   "execution_count": 4,
   "outputs": []
  },
  {
   "metadata": {},
   "cell_type": "markdown",
   "source": "Preparo di nuovo i dati dei passi che dovrò dare in pasto alla rete per ottenere le attivazioni. Quelle attivazioni saranno poi i dati di training per il prossimo modello.",
   "id": "ceb97793480eb98e"
  },
  {
   "metadata": {
    "ExecuteTime": {
     "end_time": "2024-05-29T00:56:54.593066Z",
     "start_time": "2024-05-29T00:56:51.980343Z"
    }
   },
   "cell_type": "code",
   "source": [
    "import numpy as np\n",
    "\n",
    "xtrain = []\n",
    "ytrain = []\n",
    "xtest=[]\n",
    "ytest=[]\n",
    "test_ratio=0.1\n",
    "for uuid, group in dati.groupby('uuid')[[\"date\",\"n_steps\",\"n_sleep_score\"]]:\n",
    "    split=int(len(group)*(1-test_ratio))\n",
    "    if split<window:\n",
    "        continue\n",
    "        \n",
    "    inputs = np.array(group[[\"date\",\"n_steps\"]].values)\n",
    "    output = np.array(group[\"n_sleep_score\"].values)\n",
    "\n",
    "\n",
    "    for i in range (window,split):\n",
    "        xtrain.append(inputs[i-window:i]) # Una finestra di <window> osservazioni sui passi\n",
    "        ytrain.append(output[i]) # La qualità del sonno alla fine della finestra\n",
    "\n",
    "    for i in range (split,len(group)):\n",
    "        xtest.append(inputs[i-window:i])\n",
    "        ytest.append(output[i])\n",
    "\n",
    "xtrain=np.array(xtrain).reshape(-1,window,2)\n",
    "ytrain=np.array(ytrain).reshape(-1,1)\n",
    "xtest=np.array(xtest).reshape(-1,window,2)\n",
    "ytest=np.array(ytest).reshape(-1,1)"
   ],
   "id": "aba7a659007a68ed",
   "execution_count": 5,
   "outputs": []
  },
  {
   "metadata": {},
   "cell_type": "markdown",
   "source": "Converto le osservazioni sui passi in una serie di attivazioni, da usare come input per il modello. Visto che 500 sono un po' tante ho provato anche a ridurre la dimensionalità con PCA",
   "id": "6f0030925825fc30"
  },
  {
   "metadata": {
    "ExecuteTime": {
     "end_time": "2024-05-29T00:57:34.797089Z",
     "start_time": "2024-05-29T00:56:54.594164Z"
    }
   },
   "cell_type": "code",
   "source": [
    "attivazioni_train = attivazioni.predict_on_batch(xtrain)\n",
    "attivazioni_test = attivazioni.predict_on_batch(xtest)"
   ],
   "id": "ca830a5c1906f6ed",
   "execution_count": 6,
   "outputs": []
  },
  {
   "metadata": {
    "ExecuteTime": {
     "end_time": "2024-05-29T00:57:34.800560Z",
     "start_time": "2024-05-29T00:57:34.798014Z"
    }
   },
   "cell_type": "code",
   "source": [
    "# from sklearn.decomposition import PCA\n",
    "# \n",
    "# pca= PCA(n_components=.95)\n",
    "# attivazioni_train=pca.fit_transform(attivazioni_train)\n",
    "# attivazioni_test= pca.transform(attivazioni_test)\n",
    "# attivazioni_train"
   ],
   "id": "d7c7721ff13d5d4b",
   "execution_count": 7,
   "outputs": []
  },
  {
   "metadata": {
    "ExecuteTime": {
     "end_time": "2024-05-29T00:57:34.808728Z",
     "start_time": "2024-05-29T00:57:34.801360Z"
    }
   },
   "cell_type": "code",
   "source": [
    "ytest=ytest.reshape(-1)\n",
    "ytrain=ytrain.reshape(-1)\n",
    "ytrain"
   ],
   "id": "38f1579fd6217f50",
   "execution_count": 8,
   "outputs": []
  },
  {
   "metadata": {},
   "cell_type": "markdown",
   "source": "Provo con un Percettrone multistrato",
   "id": "6439116448cf4ce4"
  },
  {
   "metadata": {
    "ExecuteTime": {
     "end_time": "2024-05-29T00:57:40.330754Z",
     "start_time": "2024-05-29T00:57:34.809543Z"
    }
   },
   "cell_type": "code",
   "source": [
    "from sklearn.neural_network import MLPRegressor\n",
    "from sklearn.linear_model import Ridge,LinearRegression,Lasso,SGDRegressor\n",
    "\n",
    "regressore = Ridge()\n",
    "regressore.fit(attivazioni_train,ytrain)"
   ],
   "id": "23b32c5563677d88",
   "execution_count": 9,
   "outputs": []
  },
  {
   "metadata": {
    "ExecuteTime": {
     "end_time": "2024-05-29T00:57:40.381840Z",
     "start_time": "2024-05-29T00:57:40.333309Z"
    }
   },
   "cell_type": "code",
   "source": "regressore.score(attivazioni_test,ytest)",
   "id": "408bc9e7951079d6",
   "execution_count": 10,
   "outputs": []
  },
  {
   "metadata": {
    "ExecuteTime": {
     "end_time": "2024-05-29T00:57:41.731446Z",
     "start_time": "2024-05-29T00:57:40.383468Z"
    }
   },
   "cell_type": "code",
   "source": "dati = pd.read_csv(\"../data/scalati.csv.gz\")[-10000:].dropna()\n",
   "id": "8b5217f8c7b82656",
   "execution_count": 11,
   "outputs": []
  },
  {
   "metadata": {
    "ExecuteTime": {
     "end_time": "2024-05-29T00:57:46.255117Z",
     "start_time": "2024-05-29T00:57:41.732375Z"
    }
   },
   "cell_type": "code",
   "source": [
    "for uuid, group in dati.groupby('uuid')[[\"date\",\"n_steps\",\"n_sleep_score\"]]:\n",
    "    if len(group) < 2 * cfg.window:\n",
    "        continue\n",
    "    pred = []\n",
    "    data = []\n",
    "    for i in range(cfg.window, len(group)):\n",
    "        data.append(group[[\"date\",\"n_steps\"]][i - cfg.window:i])\n",
    "    data=np.array(data)\n",
    "    pred = attivazioni.predict_on_batch(data)\n",
    "    pred= regressore.predict(pred)\n",
    "    plt.title(\"prediction for user: \" + uuid)\n",
    "    plt.plot(group.date.values, group.n_sleep_score.values, label='Truth')\n",
    "    plt.plot(group.date[cfg.window:].values, pred, label='Predicted')\n",
    "    plt.show()\n",
    "    plt.close()"
   ],
   "id": "a4f7137747c6cf0b",
   "execution_count": 12,
   "outputs": []
  },
  {
   "metadata": {},
   "cell_type": "code",
   "source": "",
   "id": "2f0ea5925cd837d6",
   "execution_count": null,
   "outputs": []
  }
 ],
 "metadata": {
  "kernelspec": {
   "display_name": "Python 3",
   "language": "python",
   "name": "python3"
  },
  "language_info": {
   "codemirror_mode": {
    "name": "ipython",
    "version": 2
   },
   "file_extension": ".py",
   "mimetype": "text/x-python",
   "name": "python",
   "nbconvert_exporter": "python",
   "pygments_lexer": "ipython2",
   "version": "2.7.6"
  }
 },
 "nbformat": 4,
 "nbformat_minor": 5
}
