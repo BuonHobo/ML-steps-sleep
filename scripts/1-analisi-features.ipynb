{
 "cells": [
  {
   "metadata": {},
   "cell_type": "markdown",
   "source": "Analizzo le feature legate al sonno che ho a disposizione, e trovo un modo per valutare il sonno",
   "id": "c90e4068e92d1afc"
  },
  {
   "metadata": {
    "ExecuteTime": {
     "end_time": "2024-05-28T22:47:44.644020Z",
     "start_time": "2024-05-28T22:47:44.414266Z"
    }
   },
   "cell_type": "code",
   "source": "import pandas as pd",
   "id": "99bafeb4a5d42349",
   "execution_count": 1,
   "outputs": []
  },
  {
   "metadata": {
    "ExecuteTime": {
     "end_time": "2024-05-28T22:47:46.953762Z",
     "start_time": "2024-05-28T22:47:44.645270Z"
    }
   },
   "cell_type": "code",
   "source": "steps = pd.read_csv(\"../data/scalati.csv.gz\")",
   "id": "9829c18cb539149e",
   "execution_count": 2,
   "outputs": []
  },
  {
   "metadata": {
    "ExecuteTime": {
     "end_time": "2024-05-28T22:47:51.982999Z",
     "start_time": "2024-05-28T22:47:46.954864Z"
    }
   },
   "cell_type": "code",
   "source": [
    "import missingno as msno\n",
    "\n",
    "msno.matrix(steps)\n",
    "msno.dendrogram(steps)"
   ],
   "id": "7aec43c2cd142fba",
   "execution_count": 3,
   "outputs": []
  },
  {
   "metadata": {
    "ExecuteTime": {
     "end_time": "2024-05-28T22:47:53.405931Z",
     "start_time": "2024-05-28T22:47:51.984115Z"
    }
   },
   "cell_type": "code",
   "source": [
    "import matplotlib.pyplot as plt\n",
    "\n",
    "for feature in steps.columns[3:-1]:\n",
    "    plt.plot(steps[[feature]].sample(10000).values)\n",
    "    print(feature, steps[feature].std())\n",
    "    plt.show()\n",
    "    plt.close()"
   ],
   "id": "78e9e7270f41de64",
   "execution_count": 4,
   "outputs": []
  },
  {
   "metadata": {},
   "cell_type": "markdown",
   "source": "Noto che la remduration manca quasi sempre, è meglio usare le altre feature per calcolare un punteggio della qualità del sonno",
   "id": "d9104ead7720eff3"
  }
 ],
 "metadata": {
  "kernelspec": {
   "display_name": "Python 3",
   "language": "python",
   "name": "python3"
  },
  "language_info": {
   "codemirror_mode": {
    "name": "ipython",
    "version": 2
   },
   "file_extension": ".py",
   "mimetype": "text/x-python",
   "name": "python",
   "nbconvert_exporter": "python",
   "pygments_lexer": "ipython2",
   "version": "2.7.6"
  }
 },
 "nbformat": 4,
 "nbformat_minor": 5
}
