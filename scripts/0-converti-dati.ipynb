{
 "cells": [
  {
   "metadata": {},
   "cell_type": "markdown",
   "source": "Recupero i dati che mi servono per convertirli in forma tabellare \"densa\". Mi interessano tutti i dati relativi ai passi e al sonno",
   "id": "1ee56c93245a2c0a"
  },
  {
   "metadata": {},
   "cell_type": "code",
   "outputs": [],
   "execution_count": null,
   "source": "import pandas as pd",
   "id": "f810c4e69d238522"
  },
  {
   "metadata": {},
   "cell_type": "code",
   "outputs": [],
   "execution_count": null,
   "source": "df = pd.read_csv('../data/data.csv.bz2', names=[\"id\", \"uuid\", \"date\", \"type\", \"value\"])",
   "id": "154e167ae36afa1b"
  },
  {
   "metadata": {},
   "cell_type": "code",
   "outputs": [],
   "execution_count": null,
   "source": [
    "df = df[(df.type.between(10, 19)) | (df.type == 1)].drop(columns=[\"id\"])  #1 per i passi e 10..19 per i dati sul sonno\n",
    "df.head()"
   ],
   "id": "70fcd6b93292b200"
  },
  {
   "metadata": {},
   "cell_type": "code",
   "outputs": [],
   "execution_count": null,
   "source": [
    "names = {\n",
    "    1: \"steps\",\n",
    "    10: 'sleepduration',\n",
    "    11: 'bedin',\n",
    "    12: 'bedout',\n",
    "    13: 'nbawake',\n",
    "    14: 'awakeduration',\n",
    "    15: 'time to sleep',\n",
    "    16: 'time to wake up',\n",
    "    17: 'lightduration',\n",
    "    18: 'remduration',\n",
    "    19: 'deepduration'\n",
    "}"
   ],
   "id": "d8b920dd6bf0210c"
  },
  {
   "metadata": {},
   "cell_type": "code",
   "outputs": [],
   "execution_count": null,
   "source": [
    "for col in names.values():  # Aggiungo una colonna per ognuna delle feature rilevanti\n",
    "    df[col] = None"
   ],
   "id": "9b6ba3e3d78a7ad"
  },
  {
   "metadata": {},
   "cell_type": "code",
   "outputs": [],
   "execution_count": null,
   "source": [
    "for n,col in names.items(): # Su ognuna delle righe copio il valore dal campo \"value\" a quello della feature corrispondente al tipo\n",
    "    df[col]=df.where(df.type==n)[\"value\"]\n",
    "df.head()"
   ],
   "id": "12d7c5bddf445c7f"
  },
  {
   "metadata": {},
   "cell_type": "code",
   "outputs": [],
   "execution_count": null,
   "source": [
    "df = df.groupby([\"uuid\",\"date\"]).max().drop(columns=[\"type\",\"value\"]) # \"condenso\" le righe relative alla stessa data e allo stesso utente, facendone una sola che contiene tutti i dati. Sono orgoglioso di aver trovato da solo questo modo molto efficiente per ottenere il dataset in forma tabellare densa\n",
    "df.head()"
   ],
   "id": "93f298ee9f289436"
  },
  {
   "metadata": {},
   "cell_type": "code",
   "outputs": [],
   "execution_count": null,
   "source": [
    "df = df.rename_axis([\"uuid\",\"date\"]).reset_index() # Per un csv più pulito, infatti il groupby aggiunge una colonna che non voglio\n",
    "df.head()"
   ],
   "id": "bdc04ac986fde33b"
  },
  {
   "metadata": {},
   "cell_type": "code",
   "outputs": [],
   "execution_count": null,
   "source": "df.to_csv('../data/dati.csv.gz',compression='gzip',index=False)",
   "id": "45ce28044cfd6173"
  }
 ],
 "metadata": {
  "kernelspec": {
   "display_name": "Python 3",
   "language": "python",
   "name": "python3"
  },
  "language_info": {
   "codemirror_mode": {
    "name": "ipython",
    "version": 2
   },
   "file_extension": ".py",
   "mimetype": "text/x-python",
   "name": "python",
   "nbconvert_exporter": "python",
   "pygments_lexer": "ipython2",
   "version": "2.7.6"
  }
 },
 "nbformat": 4,
 "nbformat_minor": 5
}
