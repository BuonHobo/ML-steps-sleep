{
 "cells": [
  {
   "cell_type": "code",
   "id": "dc232d284057225a",
   "metadata": {
    "collapsed": true,
    "ExecuteTime": {
     "end_time": "2024-05-25T02:28:51.118591Z",
     "start_time": "2024-05-25T02:28:50.692750Z"
    }
   },
   "source": "import pandas as pd",
   "execution_count": 1,
   "outputs": []
  },
  {
   "metadata": {
    "ExecuteTime": {
     "end_time": "2024-05-25T02:29:14.975814Z",
     "start_time": "2024-05-25T02:28:51.119712Z"
    }
   },
   "cell_type": "code",
   "source": "df = pd.read_csv('../data/data.csv.bz2', names=[\"id\", \"uuid\", \"date\", \"type\", \"value\"])",
   "id": "7c60fc5a521ef6bc",
   "execution_count": 2,
   "outputs": []
  },
  {
   "metadata": {
    "ExecuteTime": {
     "end_time": "2024-05-25T02:29:15.691882Z",
     "start_time": "2024-05-25T02:29:14.976693Z"
    }
   },
   "cell_type": "code",
   "source": [
    "df = df[(df.type.between(10,19)) | (df.type==1)].drop(columns=[\"id\"])\n",
    "df.head()"
   ],
   "id": "initial_id",
   "execution_count": 3,
   "outputs": []
  },
  {
   "metadata": {
    "ExecuteTime": {
     "end_time": "2024-05-25T02:29:27.418436Z",
     "start_time": "2024-05-25T02:29:27.415729Z"
    }
   },
   "cell_type": "code",
   "source": [
    "names={\n",
    " 1: \"steps\",\n",
    " 10: 'sleepduration',\n",
    " 11: 'bedin',\n",
    " 12: 'bedout',\n",
    " 13: 'nbawake',\n",
    " 14: 'awakeduration',\n",
    " 15: 'time to sleep',\n",
    " 16: 'time to wake up',\n",
    " 17: 'lightduration',\n",
    " 18: 'remduration',\n",
    " 19: 'deepduration'}\n"
   ],
   "id": "ef8e200fb2986430",
   "execution_count": 7,
   "outputs": []
  },
  {
   "metadata": {
    "ExecuteTime": {
     "end_time": "2024-05-25T02:29:33.163843Z",
     "start_time": "2024-05-25T02:29:31.661198Z"
    }
   },
   "cell_type": "code",
   "source": [
    "for col in names.values():\n",
    "    df[col]=None"
   ],
   "id": "a705eb4341549469",
   "execution_count": 8,
   "outputs": []
  },
  {
   "metadata": {
    "ExecuteTime": {
     "end_time": "2024-05-25T02:30:34.904545Z",
     "start_time": "2024-05-25T02:30:11.994529Z"
    }
   },
   "cell_type": "code",
   "source": [
    "for n,col in names.items():\n",
    "    df[col]=df.where(df.type==n)[\"value\"]"
   ],
   "id": "1bab4df157f21f46",
   "execution_count": 10,
   "outputs": []
  },
  {
   "metadata": {},
   "cell_type": "code",
   "source": "df = df.groupby([\"uuid\",\"date\"]).max().drop(columns=[\"type\",\"value\"])",
   "id": "d66c7d1089de41ff",
   "execution_count": null,
   "outputs": []
  },
  {
   "metadata": {},
   "cell_type": "code",
   "execution_count": null,
   "source": "df",
   "id": "46b35b314bab3d15",
   "outputs": []
  },
  {
   "metadata": {},
   "cell_type": "code",
   "source": "df.to_csv('../data/dati.csv.gz',compression='gzip')",
   "id": "2a24621768b01a4",
   "execution_count": null,
   "outputs": []
  },
  {
   "metadata": {
    "ExecuteTime": {
     "end_time": "2024-05-25T02:00:11.794408Z",
     "start_time": "2024-05-25T01:59:52.967423Z"
    }
   },
   "cell_type": "code",
   "source": [
    "from sklearn.preprocessing import MinMaxScaler\n",
    "\n",
    "def scale(x):\n",
    " x[\"user_minmax_steps\"]=MinMaxScaler().fit_transform(x[[\"steps\"]])\n",
    " return x\n",
    "\n",
    "df=df.groupby(\"uuid\").apply(scale,include_groups=False)"
   ],
   "id": "3f444349173a719e",
   "execution_count": 35,
   "outputs": []
  },
  {
   "metadata": {
    "ExecuteTime": {
     "end_time": "2024-05-25T02:00:14.605134Z",
     "start_time": "2024-05-25T02:00:14.366407Z"
    }
   },
   "cell_type": "code",
   "source": [
    "df = df.rename_axis([\"uuid\",\"id\"]).reset_index().drop(columns=[\"id\"]) #per un csv più pulito\n",
    "df"
   ],
   "id": "5c13d4d0463b8d71",
   "execution_count": 36,
   "outputs": []
  },
  {
   "metadata": {
    "ExecuteTime": {
     "end_time": "2024-05-25T02:02:46.292129Z",
     "start_time": "2024-05-25T02:02:16.068765Z"
    }
   },
   "cell_type": "code",
   "source": "df.to_csv('../data/scalati.csv.gz',compression='gzip',index=False)",
   "id": "5515c87438741f54",
   "execution_count": 38,
   "outputs": []
  },
  {
   "metadata": {},
   "cell_type": "code",
   "execution_count": null,
   "source": "",
   "id": "7b00bb7fd683d260",
   "outputs": []
  }
 ],
 "metadata": {
  "kernelspec": {
   "display_name": "Python 3",
   "language": "python",
   "name": "python3"
  },
  "language_info": {
   "codemirror_mode": {
    "name": "ipython",
    "version": 2
   },
   "file_extension": ".py",
   "mimetype": "text/x-python",
   "name": "python",
   "nbconvert_exporter": "python",
   "pygments_lexer": "ipython2",
   "version": "2.7.6"
  }
 },
 "nbformat": 4,
 "nbformat_minor": 5
}
