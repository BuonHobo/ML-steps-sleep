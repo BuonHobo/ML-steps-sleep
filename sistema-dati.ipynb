{
 "cells": [
  {
   "cell_type": "code",
   "id": "dc232d284057225a",
   "metadata": {
    "collapsed": true,
    "ExecuteTime": {
     "end_time": "2024-05-25T00:35:58.217942Z",
     "start_time": "2024-05-25T00:35:57.985500Z"
    }
   },
   "source": "import pandas as pd",
   "outputs": [],
   "execution_count": 1
  },
  {
   "metadata": {},
   "cell_type": "code",
   "outputs": [],
   "execution_count": 1,
   "source": "df = pd.read_csv('data.csv.bz2', names=[\"id\", \"uuid\", \"date\", \"type\", \"value\"])",
   "id": "7c60fc5a521ef6bc"
  },
  {
   "metadata": {
    "ExecuteTime": {
     "end_time": "2024-05-25T00:15:46.899680Z",
     "start_time": "2024-05-25T00:15:46.223216Z"
    }
   },
   "cell_type": "code",
   "source": [
    "df2 = df[(df.type.between(10,19)) | (df.type==1)].drop(columns=[\"id\"])\n",
    "df2.head()"
   ],
   "id": "initial_id",
   "outputs": [
    {
     "data": {
      "text/plain": [
       "                                       uuid        date  type     value\n",
       "0  2bc16eda651db5936cd31e735c815296fc1579d9  2016-04-01     1  10131.39\n",
       "6  2bc16eda651db5936cd31e735c815296fc1579d9  2016-04-01    10      3.89\n",
       "7  2bc16eda651db5936cd31e735c815296fc1579d9  2016-04-01    11     22.23\n",
       "8  2bc16eda651db5936cd31e735c815296fc1579d9  2016-04-01    12      2.93\n",
       "9  2bc16eda651db5936cd31e735c815296fc1579d9  2016-04-01    13      2.00"
      ],
      "text/html": [
       "<div>\n",
       "<style scoped>\n",
       "    .dataframe tbody tr th:only-of-type {\n",
       "        vertical-align: middle;\n",
       "    }\n",
       "\n",
       "    .dataframe tbody tr th {\n",
       "        vertical-align: top;\n",
       "    }\n",
       "\n",
       "    .dataframe thead th {\n",
       "        text-align: right;\n",
       "    }\n",
       "</style>\n",
       "<table border=\"1\" class=\"dataframe\">\n",
       "  <thead>\n",
       "    <tr style=\"text-align: right;\">\n",
       "      <th></th>\n",
       "      <th>uuid</th>\n",
       "      <th>date</th>\n",
       "      <th>type</th>\n",
       "      <th>value</th>\n",
       "    </tr>\n",
       "  </thead>\n",
       "  <tbody>\n",
       "    <tr>\n",
       "      <th>0</th>\n",
       "      <td>2bc16eda651db5936cd31e735c815296fc1579d9</td>\n",
       "      <td>2016-04-01</td>\n",
       "      <td>1</td>\n",
       "      <td>10131.39</td>\n",
       "    </tr>\n",
       "    <tr>\n",
       "      <th>6</th>\n",
       "      <td>2bc16eda651db5936cd31e735c815296fc1579d9</td>\n",
       "      <td>2016-04-01</td>\n",
       "      <td>10</td>\n",
       "      <td>3.89</td>\n",
       "    </tr>\n",
       "    <tr>\n",
       "      <th>7</th>\n",
       "      <td>2bc16eda651db5936cd31e735c815296fc1579d9</td>\n",
       "      <td>2016-04-01</td>\n",
       "      <td>11</td>\n",
       "      <td>22.23</td>\n",
       "    </tr>\n",
       "    <tr>\n",
       "      <th>8</th>\n",
       "      <td>2bc16eda651db5936cd31e735c815296fc1579d9</td>\n",
       "      <td>2016-04-01</td>\n",
       "      <td>12</td>\n",
       "      <td>2.93</td>\n",
       "    </tr>\n",
       "    <tr>\n",
       "      <th>9</th>\n",
       "      <td>2bc16eda651db5936cd31e735c815296fc1579d9</td>\n",
       "      <td>2016-04-01</td>\n",
       "      <td>13</td>\n",
       "      <td>2.00</td>\n",
       "    </tr>\n",
       "  </tbody>\n",
       "</table>\n",
       "</div>"
      ]
     },
     "execution_count": 2,
     "metadata": {},
     "output_type": "execute_result"
    }
   ],
   "execution_count": 2
  },
  {
   "metadata": {
    "ExecuteTime": {
     "end_time": "2024-05-25T00:17:06.684472Z",
     "start_time": "2024-05-25T00:17:06.681645Z"
    }
   },
   "cell_type": "code",
   "source": [
    "names={\n",
    " 1: \"steps\",\n",
    " 10: 'sleepduration',\n",
    " 11: 'bedin',\n",
    " 12: 'bedout',\n",
    " 13: 'nbawake',\n",
    " 14: 'awakeduration',\n",
    " 15: 'time to sleep',\n",
    " 16: 'time to wake up',\n",
    " 17: 'lightduration',\n",
    " 18: 'remduration',\n",
    " 19: 'deepduration'}\n"
   ],
   "id": "ef8e200fb2986430",
   "outputs": [],
   "execution_count": 5
  },
  {
   "metadata": {
    "ExecuteTime": {
     "end_time": "2024-05-25T00:17:21.359938Z",
     "start_time": "2024-05-25T00:17:20.229965Z"
    }
   },
   "cell_type": "code",
   "source": [
    "for col in names.values():\n",
    "    df2[col]=None"
   ],
   "id": "a705eb4341549469",
   "outputs": [],
   "execution_count": 6
  },
  {
   "metadata": {
    "ExecuteTime": {
     "end_time": "2024-05-25T00:18:01.778673Z",
     "start_time": "2024-05-25T00:17:39.054985Z"
    }
   },
   "cell_type": "code",
   "source": [
    "for n,col in names.items():\n",
    "    df2[col]=df2.where(df2.type==n)[\"value\"]"
   ],
   "id": "1bab4df157f21f46",
   "outputs": [],
   "execution_count": 7
  },
  {
   "metadata": {
    "ExecuteTime": {
     "end_time": "2024-05-25T00:18:15.263180Z",
     "start_time": "2024-05-25T00:18:12.720239Z"
    }
   },
   "cell_type": "code",
   "source": "df2 = df2.groupby([\"uuid\",\"date\"]).max().drop(columns=[\"type\",\"value\"])",
   "id": "d66c7d1089de41ff",
   "outputs": [],
   "execution_count": 8
  },
  {
   "metadata": {
    "ExecuteTime": {
     "end_time": "2024-05-25T00:23:22.259656Z",
     "start_time": "2024-05-25T00:22:56.563579Z"
    }
   },
   "cell_type": "code",
   "source": "df2.to_csv('dati.csv.gz',compression='gzip')",
   "id": "2a24621768b01a4",
   "outputs": [],
   "execution_count": 15
  }
 ],
 "metadata": {
  "kernelspec": {
   "display_name": "Python 3",
   "language": "python",
   "name": "python3"
  },
  "language_info": {
   "codemirror_mode": {
    "name": "ipython",
    "version": 2
   },
   "file_extension": ".py",
   "mimetype": "text/x-python",
   "name": "python",
   "nbconvert_exporter": "python",
   "pygments_lexer": "ipython2",
   "version": "2.7.6"
  }
 },
 "nbformat": 4,
 "nbformat_minor": 5
}
